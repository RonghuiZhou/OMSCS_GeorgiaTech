{
 "cells": [
  {
   "cell_type": "markdown",
   "metadata": {},
   "source": [
    "# [CS6475: Computational Photography](https://omscs.gatech.edu/cs-6475-computational-photography)\n",
    "\n",
    "## Summary  \n",
    "\n",
    "\n",
    "\n"
   ]
  },
  {
   "cell_type": "markdown",
   "metadata": {},
   "source": [
    "## What we learned:\n",
    "---\n",
    "* [Part 1: Photography Concepts](#Part-1:-Photography-Concepts)\n",
    "\n",
    "\n",
    "* [Part 2: Algorithms](#Part-2:-Algorithms)\n",
    "    - [Section 2-1: Dynamic Programming](#Section-2-1:-Dynamic-Programming)\n",
    "    - [Section 2-2: Linear Programming](#Section-2-2:-Linear-Programming)\n",
    "\n",
    "\n",
    "* [Part 3: Techniques](#Part-3:-Techniques)\n",
    "    - [Section 3-1: Image Processing](#Section-3:-Image-Processing)\n",
    "    - [Section 3-2: Video Processing](#Section-3:-Video-Processing)\n",
    "\n",
    "\n",
    "---\n",
    "**Ronghui Zhou, Ph.D.**  \n",
    "Class of Fall 2020  \n",
    "[LinkedIn](https://www.linkedin.com/in/ronghuizhou/); [GitHub](https://github.com/RonghuiZhou)"
   ]
  },
  {
   "cell_type": "markdown",
   "metadata": {},
   "source": [
    "---\n",
    "## Part 1: Photography Concepts\n",
    "---\n",
    "\n",
    "\n",
    "#### Go back to [CS 6475: Computational Photography](#CS6475:-Computational-Photography)"
   ]
  },
  {
   "cell_type": "code",
   "execution_count": null,
   "metadata": {},
   "outputs": [],
   "source": []
  },
  {
   "cell_type": "markdown",
   "metadata": {},
   "source": [
    "---\n",
    "## Part 2: Algorithms\n",
    "---\n",
    "\n",
    "\n",
    "#### Go back to [CS 6475: Computational Photography](#CS6475:-Computational-Photography)"
   ]
  },
  {
   "cell_type": "code",
   "execution_count": null,
   "metadata": {},
   "outputs": [],
   "source": []
  },
  {
   "cell_type": "markdown",
   "metadata": {},
   "source": [
    "---\n",
    "## Part 3: Techniques\n",
    "---\n",
    "\n",
    "\n",
    "#### Go back to [CS 6475: Computational Photography](#CS6475:-Computational-Photography)"
   ]
  },
  {
   "cell_type": "code",
   "execution_count": null,
   "metadata": {},
   "outputs": [],
   "source": []
  }
 ],
 "metadata": {
  "kernelspec": {
   "display_name": "Python 3",
   "language": "python",
   "name": "python3"
  },
  "language_info": {
   "codemirror_mode": {
    "name": "ipython",
    "version": 3
   },
   "file_extension": ".py",
   "mimetype": "text/x-python",
   "name": "python",
   "nbconvert_exporter": "python",
   "pygments_lexer": "ipython3",
   "version": "3.8.5"
  }
 },
 "nbformat": 4,
 "nbformat_minor": 4
}
