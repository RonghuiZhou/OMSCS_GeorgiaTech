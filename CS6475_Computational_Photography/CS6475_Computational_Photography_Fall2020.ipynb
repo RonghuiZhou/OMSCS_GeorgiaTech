{
 "cells": [
  {
   "cell_type": "markdown",
   "metadata": {},
   "source": [
    "# [CS6475: Computational Photography](https://omscs.gatech.edu/cs-6475-computational-photography)\n",
    "\n",
    "\n",
    "\n",
    "## Overview  \n",
    "\n",
    "This class explores how computation impacts the entire workflow of photography, which is traditionally aimed at capturing light from a (3D) scene to form a (2D) image. A detailed study of the perceptual, technical and computational aspects of forming pictures, and more precisely, the capture and depiction of reality on a (mostly 2D) medium of images, is undertaken over the entire term. The scientific, perceptual, and artistic principles behind image-making will be emphasized, especially as impacted and changed by computation. Topics include the relationship between pictorial techniques and the human visual system; intrinsic limitations of 2D representations and their possible compensations; and technical issues involving capturing light to form images. Technical aspects of image capture and rendering, and exploration of how such a medium can be used to its maximum potential, will be examined. New forms of cameras and imaging paradigms will be introduced. Students will undertake a hands-on approach over the entire term using computation techniques, merged with digital imaging processes to produce photographic artifacts.\n",
    "\n",
    "More information is available on the [CS 6475 course website](https://omscs6475.cc.gatech.edu/).\n",
    "\n"
   ]
  },
  {
   "cell_type": "markdown",
   "metadata": {},
   "source": [
    "## What we learned:\n",
    "---\n",
    "* [Part 1: Photography Concepts](#Part-1:-Photography-Concepts)\n",
    "\n",
    "\n",
    "* [Part 2: Algorithms](#Part-2:-Algorithms)\n",
    "    - [Section 2-1: Dynamic Programming](#Section-2-1:-Dynamic-Programming)\n",
    "    - [Section 2-2: Linear Programming](#Section-2-2:-Linear-Programming)\n",
    "\n",
    "\n",
    "* [Part 3: Techniques](#Part-3:-Techniques)\n",
    "    - [Section 3-1: Image Processing](#Section-3:-Image-Processing)\n",
    "    - [Section 3-2: Video Processing](#Section-3:-Video-Processing)\n",
    "\n",
    "\n",
    "---\n",
    "**Ronghui Zhou, Ph.D.**  \n",
    "Class of Fall 2020  \n",
    "[LinkedIn](https://www.linkedin.com/in/ronghuizhou/); [GitHub](https://github.com/RonghuiZhou)"
   ]
  },
  {
   "cell_type": "markdown",
   "metadata": {},
   "source": [
    "---\n",
    "## Part 1: Photography Concepts\n",
    "---\n",
    "\n",
    "\n",
    "#### Go back to [CS 6475: Computational Photography](#CS6475:-Computational-Photography)"
   ]
  },
  {
   "cell_type": "code",
   "execution_count": null,
   "metadata": {},
   "outputs": [],
   "source": []
  },
  {
   "cell_type": "markdown",
   "metadata": {},
   "source": [
    "---\n",
    "## Part 2: Algorithms\n",
    "---\n",
    "\n",
    "\n",
    "#### Go back to [CS 6475: Computational Photography](#CS6475:-Computational-Photography)"
   ]
  },
  {
   "cell_type": "code",
   "execution_count": null,
   "metadata": {},
   "outputs": [],
   "source": []
  },
  {
   "cell_type": "markdown",
   "metadata": {},
   "source": [
    "---\n",
    "## Part 3: Techniques\n",
    "---\n",
    "\n",
    "\n",
    "#### Go back to [CS 6475: Computational Photography](#CS6475:-Computational-Photography)"
   ]
  },
  {
   "cell_type": "code",
   "execution_count": null,
   "metadata": {},
   "outputs": [],
   "source": []
  }
 ],
 "metadata": {
  "kernelspec": {
   "display_name": "Python 3",
   "language": "python",
   "name": "python3"
  },
  "language_info": {
   "codemirror_mode": {
    "name": "ipython",
    "version": 3
   },
   "file_extension": ".py",
   "mimetype": "text/x-python",
   "name": "python",
   "nbconvert_exporter": "python",
   "pygments_lexer": "ipython3",
   "version": "3.8.5"
  }
 },
 "nbformat": 4,
 "nbformat_minor": 4
}
